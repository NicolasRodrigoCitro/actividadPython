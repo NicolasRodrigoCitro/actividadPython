{
 "cells": [
  {
   "cell_type": "code",
   "execution_count": 17,
   "id": "6cf6b9af",
   "metadata": {},
   "outputs": [],
   "source": [
    "nombres =open(\"nombres_1.txt\", encoding='utf8')\n",
    "otra_lista = [x.replace(',','').replace('\\n','').replace(\"'\",\"\").strip() for x in nombres.readlines()]#list comprenhension\n",
    "#print(otra_lista)\n",
    "unLista_nombres =nombres.readlines()\n",
    "unLista = list(map(lambda x:  x.replace(',','').replace('\\n','').replace(\"'\",\"\").strip(), unLista_nombres))\n",
    "\n",
    "evaluacion1 = open(\"eval1.txt\")\n",
    "lista_eval1 = evaluacion1.readline()\n",
    "for u in unLista:\n",
    "    print(u)"
   ]
  },
  {
   "cell_type": "code",
   "execution_count": 13,
   "id": "aacc75df",
   "metadata": {},
   "outputs": [
    {
     "name": "stdout",
     "output_type": "stream",
     "text": [
      "[]\n"
     ]
    }
   ],
   "source": [
    "print(unLista)"
   ]
  },
  {
   "cell_type": "code",
   "execution_count": 11,
   "id": "9c8243e0",
   "metadata": {},
   "outputs": [],
   "source": [
    "evaluacion1 = open(\"eval1.txt\")\n",
    "lista_eval1 = evaluacion1.readline()\n",
    "unEval1 = list(map(lambda x: x.replace(',','').replace('\\n','').replace(\"'\",\"\").strip(), lista_eval1 ))\n",
    "evaluacion2 = open(\"eval2.txt\")\n",
    "lista_eval2 = evaluacion2.readline()\n",
    "unEval2 = list(map(lambda x: x.replace(',','').replace('\\n','').replace(\"'\",\"\").strip(), lista_eval2))"
   ]
  },
  {
   "cell_type": "code",
   "execution_count": 4,
   "id": "0f6aef62",
   "metadata": {},
   "outputs": [
    {
     "data": {
      "text/plain": [
       "'81,\\n'"
      ]
     },
     "execution_count": 4,
     "metadata": {},
     "output_type": "execute_result"
    }
   ],
   "source": [
    "lista_eval1"
   ]
  },
  {
   "cell_type": "code",
   "execution_count": 5,
   "id": "e8851e01",
   "metadata": {},
   "outputs": [
    {
     "data": {
      "text/plain": [
       "['8', '1', '', '']"
      ]
     },
     "execution_count": 5,
     "metadata": {},
     "output_type": "execute_result"
    }
   ],
   "source": [
    "unEval1"
   ]
  },
  {
   "cell_type": "code",
   "execution_count": 6,
   "id": "b3698e07",
   "metadata": {},
   "outputs": [
    {
     "data": {
      "text/plain": [
       "<_io.TextIOWrapper name='eval1.txt' mode='r' encoding='cp1252'>"
      ]
     },
     "execution_count": 6,
     "metadata": {},
     "output_type": "execute_result"
    }
   ],
   "source": [
    "evaluacion1"
   ]
  },
  {
   "cell_type": "code",
   "execution_count": null,
   "id": "6615c6f1",
   "metadata": {},
   "outputs": [],
   "source": []
  }
 ],
 "metadata": {
  "kernelspec": {
   "display_name": "Python 3 (ipykernel)",
   "language": "python",
   "name": "python3"
  },
  "language_info": {
   "codemirror_mode": {
    "name": "ipython",
    "version": 3
   },
   "file_extension": ".py",
   "mimetype": "text/x-python",
   "name": "python",
   "nbconvert_exporter": "python",
   "pygments_lexer": "ipython3",
   "version": "3.10.4"
  }
 },
 "nbformat": 4,
 "nbformat_minor": 5
}

{
 "cells": [
  {
   "cell_type": "markdown",
   "id": "7c6d3545",
   "metadata": {},
   "source": [
    "# Esto es un título."
   ]
  },
  {
   "cell_type": "markdown",
   "id": "f8fcbb32",
   "metadata": {},
   "source": [
    "**Hola**"
   ]
  },
  {
   "cell_type": "code",
   "execution_count": 3,
   "id": "377af779",
   "metadata": {},
   "outputs": [
    {
     "ename": "UnicodeDecodeError",
     "evalue": "'charmap' codec can't decode byte 0x81 in position 444: character maps to <undefined>",
     "output_type": "error",
     "traceback": [
      "\u001b[1;31m---------------------------------------------------------------------------\u001b[0m",
      "\u001b[1;31mUnicodeDecodeError\u001b[0m                        Traceback (most recent call last)",
      "Input \u001b[1;32mIn [3]\u001b[0m, in \u001b[0;36m<cell line: 6>\u001b[1;34m()\u001b[0m\n\u001b[0;32m      4\u001b[0m eval2\u001b[38;5;241m=\u001b[39m \u001b[38;5;28mopen\u001b[39m(\u001b[38;5;124m\"\u001b[39m\u001b[38;5;124meval2.txt\u001b[39m\u001b[38;5;124m\"\u001b[39m)\n\u001b[0;32m      5\u001b[0m nombres\u001b[38;5;241m.\u001b[39mseek(\u001b[38;5;241m0\u001b[39m)\n\u001b[1;32m----> 6\u001b[0m lista_nombres1\u001b[38;5;241m=\u001b[39m[x\u001b[38;5;241m.\u001b[39mreplace(\u001b[38;5;124m'\u001b[39m\u001b[38;5;124m,\u001b[39m\u001b[38;5;124m'\u001b[39m,\u001b[38;5;124m'\u001b[39m\u001b[38;5;124m'\u001b[39m)\u001b[38;5;241m.\u001b[39mreplace(\u001b[38;5;124m'\u001b[39m\u001b[38;5;130;01m\\n\u001b[39;00m\u001b[38;5;124m'\u001b[39m,\u001b[38;5;124m'\u001b[39m\u001b[38;5;124m'\u001b[39m)\u001b[38;5;241m.\u001b[39mreplace(\u001b[38;5;124m\"\u001b[39m\u001b[38;5;124m'\u001b[39m\u001b[38;5;124m\"\u001b[39m,\u001b[38;5;124m\"\u001b[39m\u001b[38;5;124m\"\u001b[39m)\u001b[38;5;241m.\u001b[39mstrip() \u001b[38;5;28;01mfor\u001b[39;00m x \u001b[38;5;129;01min\u001b[39;00m \u001b[43mnombres\u001b[49m\u001b[38;5;241;43m.\u001b[39;49m\u001b[43mreadlines\u001b[49m\u001b[43m(\u001b[49m\u001b[43m)\u001b[49m]\n\u001b[0;32m      7\u001b[0m lista_nombres2\u001b[38;5;241m=\u001b[39m[nombre \u001b[38;5;28;01mfor\u001b[39;00m nombre \u001b[38;5;129;01min\u001b[39;00m nombres2\u001b[38;5;241m.\u001b[39mreadlines()]\n\u001b[0;32m      8\u001b[0m lista_eval1\u001b[38;5;241m=\u001b[39m[nota \u001b[38;5;28;01mfor\u001b[39;00m nota \u001b[38;5;129;01min\u001b[39;00m eval1\u001b[38;5;241m.\u001b[39mreadlines()]\n",
      "File \u001b[1;32mC:\\Program Files\\WindowsApps\\PythonSoftwareFoundation.Python.3.10_3.10.1264.0_x64__qbz5n2kfra8p0\\lib\\encodings\\cp1252.py:23\u001b[0m, in \u001b[0;36mIncrementalDecoder.decode\u001b[1;34m(self, input, final)\u001b[0m\n\u001b[0;32m     22\u001b[0m \u001b[38;5;28;01mdef\u001b[39;00m \u001b[38;5;21mdecode\u001b[39m(\u001b[38;5;28mself\u001b[39m, \u001b[38;5;28minput\u001b[39m, final\u001b[38;5;241m=\u001b[39m\u001b[38;5;28;01mFalse\u001b[39;00m):\n\u001b[1;32m---> 23\u001b[0m     \u001b[38;5;28;01mreturn\u001b[39;00m \u001b[43mcodecs\u001b[49m\u001b[38;5;241;43m.\u001b[39;49m\u001b[43mcharmap_decode\u001b[49m\u001b[43m(\u001b[49m\u001b[38;5;28;43minput\u001b[39;49m\u001b[43m,\u001b[49m\u001b[38;5;28;43mself\u001b[39;49m\u001b[38;5;241;43m.\u001b[39;49m\u001b[43merrors\u001b[49m\u001b[43m,\u001b[49m\u001b[43mdecoding_table\u001b[49m\u001b[43m)\u001b[49m[\u001b[38;5;241m0\u001b[39m]\n",
      "\u001b[1;31mUnicodeDecodeError\u001b[0m: 'charmap' codec can't decode byte 0x81 in position 444: character maps to <undefined>"
     ]
    }
   ],
   "source": [
    "nombres= open(\"nombres_1.txt\")\n",
    "nombres2 = open(\"nombres_2.txt\")\n",
    "eval1 = open(\"eval1.txt\")\n",
    "eval2= open(\"eval2.txt\")\n",
    "nombres.seek(0)\n",
    "lista_nombres1=[x.replace(',','').replace('\\n','').replace(\"'\",\"\").strip() for x in nombres.readlines()]\n",
    "lista_nombres2=[nombre for nombre in nombres2.readlines()]\n",
    "lista_eval1=[nota for nota in eval1.readlines()]\n",
    "lista_eval2=[nota for nota in eval2.readlines()]\n",
    "listaGeneral = lista_eval1 + lista_eval2\n",
    "nombres1.close()\n",
    "nombres2.close()\n",
    "eval1.close()\n",
    "eval2.close()\n",
    "\n",
    "nombres_coincidentes= list(filter(lambda nombre1,nombre2: nombre1 == nombre2, listaGeneral))\n",
    "print(nombres_coincidentes)"
   ]
  },
  {
   "cell_type": "code",
   "execution_count": null,
   "id": "bb0d0230",
   "metadata": {},
   "outputs": [],
   "source": []
  }
 ],
 "metadata": {
  "kernelspec": {
   "display_name": "Python 3 (ipykernel)",
   "language": "python",
   "name": "python3"
  },
  "language_info": {
   "codemirror_mode": {
    "name": "ipython",
    "version": 3
   },
   "file_extension": ".py",
   "mimetype": "text/x-python",
   "name": "python",
   "nbconvert_exporter": "python",
   "pygments_lexer": "ipython3",
   "version": "3.10.4"
  }
 },
 "nbformat": 4,
 "nbformat_minor": 5
}

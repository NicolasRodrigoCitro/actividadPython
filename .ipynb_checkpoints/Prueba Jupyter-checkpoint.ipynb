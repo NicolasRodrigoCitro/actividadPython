{
 "cells": [
  {
   "cell_type": "markdown",
   "id": "7c6d3545",
   "metadata": {},
   "source": [
    "# Esto es un título."
   ]
  },
  {
   "cell_type": "markdown",
   "id": "f8fcbb32",
   "metadata": {},
   "source": [
    "**Hola**"
   ]
  },
  {
   "cell_type": "code",
   "execution_count": null,
   "id": "377af779",
   "metadata": {},
   "outputs": [],
   "source": []
  }
 ],
 "metadata": {
  "kernelspec": {
   "display_name": "Python 3 (ipykernel)",
   "language": "python",
   "name": "python3"
  },
  "language_info": {
   "codemirror_mode": {
    "name": "ipython",
    "version": 3
   },
   "file_extension": ".py",
   "mimetype": "text/x-python",
   "name": "python",
   "nbconvert_exporter": "python",
   "pygments_lexer": "ipython3",
   "version": "3.10.4"
  }
 },
 "nbformat": 4,
 "nbformat_minor": 5
}

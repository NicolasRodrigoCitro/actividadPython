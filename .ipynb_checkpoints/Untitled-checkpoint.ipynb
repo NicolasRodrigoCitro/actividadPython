{
 "cells": [
  {
   "cell_type": "code",
   "execution_count": 12,
   "id": "6cf6b9af",
   "metadata": {},
   "outputs": [
    {
     "name": "stdout",
     "output_type": "stream",
     "text": [
      "['Agustin', 'Alan', 'Andrés', 'Ariadna', 'Bautista', 'CAROLINA', 'CESAR', 'David', 'Diego', 'Dolores', 'DYLAN', 'ELIANA', 'Emanuel', 'Fabián', 'Facundo', 'Facundo', 'FEDERICO', 'FEDERICO', 'GONZALO', 'Gregorio', 'Ignacio', 'Jonathan', 'Jonathan', 'Jorge', 'JOSE', 'JUAN', 'Juan', 'Juan', 'Julian', 'Julieta', 'LAUTARO', 'Leonel', 'LUIS', 'Luis', 'Marcos', 'María', 'MATEO', 'Matias', 'Nicolás', 'NICOLÁS', 'Noelia', 'Pablo', 'Priscila', 'TOMAS', 'Tomás', 'Ulises', 'Yanina']\n"
     ]
    }
   ],
   "source": [
    "nombres =open(\"nombres_1.txt\", encoding='utf8')\n",
    "otra_lista = [x.replace(',','').replace('\\n','').replace(\"'\",\"\").strip() for x in nombres.readlines()]#list comprenhension\n",
    "print(otra_lista)\n",
    "unLista_nombres =nombres.readlines()\n",
    "unLista = list(map(lambda x:  x.replace(',','').replace('\\n','').replace(\"'\",\"\").strip(), unLista_nombres))\n",
    "\n",
    "evaluacion1 = open(\"eval1.txt\")\n",
    "lista_eval1 = evaluacion1.readline()"
   ]
  },
  {
   "cell_type": "code",
   "execution_count": 11,
   "id": "aacc75df",
   "metadata": {},
   "outputs": [
    {
     "name": "stdout",
     "output_type": "stream",
     "text": [
      "['Agustin', 'Alan', 'Andrés', 'Ariadna', 'Bautista', 'CAROLINA', 'CESAR', 'David', 'Diego', 'Dolores', 'DYLAN', 'ELIANA', 'Emanuel', 'Fabián', 'Facundo', 'Facundo', 'FEDERICO', 'FEDERICO', 'GONZALO', 'Gregorio', 'Ignacio', 'Jonathan', 'Jonathan', 'Jorge', 'JOSE', 'JUAN', 'Juan', 'Juan', 'Julian', 'Julieta', 'LAUTARO', 'Leonel', 'LUIS', 'Luis', 'Marcos', 'María', 'MATEO', 'Matias', 'Nicolás', 'NICOLÁS', 'Noelia', 'Pablo', 'Priscila', 'TOMAS', 'Tomás', 'Ulises', 'Yanina']\n"
     ]
    }
   ],
   "source": [
    "print(unLista)"
   ]
  },
  {
   "cell_type": "code",
   "execution_count": null,
   "id": "9c8243e0",
   "metadata": {},
   "outputs": [],
   "source": []
  }
 ],
 "metadata": {
  "kernelspec": {
   "display_name": "Python 3 (ipykernel)",
   "language": "python",
   "name": "python3"
  },
  "language_info": {
   "codemirror_mode": {
    "name": "ipython",
    "version": 3
   },
   "file_extension": ".py",
   "mimetype": "text/x-python",
   "name": "python",
   "nbconvert_exporter": "python",
   "pygments_lexer": "ipython3",
   "version": "3.10.4"
  }
 },
 "nbformat": 4,
 "nbformat_minor": 5
}

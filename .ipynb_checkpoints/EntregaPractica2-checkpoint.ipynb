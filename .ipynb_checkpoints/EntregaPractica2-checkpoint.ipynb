{
 "cells": [
  {
   "cell_type": "markdown",
   "id": "adc98f08",
   "metadata": {},
   "source": [
    "# Practica 2 ejerccio 10"
   ]
  },
  {
   "cell_type": "markdown",
   "id": "fbdf883b",
   "metadata": {},
   "source": [
    "## Explicacion"
   ]
  },
  {
   "cell_type": "markdown",
   "id": "c857ea35",
   "metadata": {},
   "source": [
    "Abrimos los archibos de forma lectura \"nombres_1.txt\"; \"eval1.txt\"; \"eval2.txt\" para poder procesarlos, guardandolos\n",
    "en las variables nombres,evaluacion1,evaluacion2.\n"
   ]
  },
  {
   "cell_type": "code",
   "execution_count": 8,
   "id": "2790b8f9",
   "metadata": {},
   "outputs": [],
   "source": [
    "nombres =open(\"nombres_1.txt\", encoding='utf8')\n",
    "evaluacion1 = open(\"eval1.txt\")\n",
    "evaluacion2 = open(\"eval2.txt\")\n"
   ]
  },
  {
   "cell_type": "markdown",
   "id": "70d27208",
   "metadata": {},
   "source": [
    "Ahora el objetivo es generar una lista con los nombres de los alumnos. Donde uso el metodo readlines() para transformar cada linea del archivo en un dato de una lista y posteriormente filtrar caracteres que no necesito.\n",
    "Para esto hice una lista de comprencion: donde cada x le voy a aplicar la funcion replace() para eliminar los **' , '  ;  ' \\n ' y las  \" ' \"** . Ademas utilizo la funcion strip() para eliminar tanto los espacios que estan adelante y destras de las cadenas de texto."
   ]
  },
  {
   "cell_type": "code",
   "execution_count": 9,
   "id": "3cd7cb04",
   "metadata": {},
   "outputs": [],
   "source": [
    "lista=[x.replace(',','').replace('\\n','').replace(\"'\",\"\").strip() for x in nombres.readlines()]"
   ]
  },
  {
   "cell_type": "markdown",
   "id": "480570bf",
   "metadata": {},
   "source": [
    "Para los archivos de las notas uso el mismo procedimiento, eceptuando que para las listas de notas necesito que sean numeros, etonces trasformo la lista ejecutando **listaEval1 = list(map(int,unEval1))** donde uso el metodo map() para recorrer lista y aplico la funcion int para transformarlo a entero, y al final aplico list para que sea una lista de lo contrario map devuelve un iterable."
   ]
  },
  {
   "cell_type": "code",
   "execution_count": 10,
   "id": "19ce0a13",
   "metadata": {},
   "outputs": [],
   "source": [
    "unEval1 = [x.replace(',','').replace('\\n','').replace(\"'\",\"\").strip() for x in evaluacion1.readlines()]\n",
    "listaEval1 = list(map(int,unEval1))\n",
    "\n",
    "unEval2 =[x.replace(',','').replace('\\n','').replace(\"'\",\"\").strip() for x in evaluacion2.readlines()]\n",
    "listaEval2 = list(map(int,unEval2))"
   ]
  },
  {
   "cell_type": "markdown",
   "id": "0f8fe000",
   "metadata": {},
   "source": [
    "Cierre de los archivos"
   ]
  },
  {
   "cell_type": "code",
   "execution_count": null,
   "id": "f613fc8d",
   "metadata": {},
   "outputs": [],
   "source": [
    "nombres.close()\n",
    "evaluacion1.close()\n",
    "evaluacion2.close()"
   ]
  },
  {
   "cell_type": "markdown",
   "id": "f08a102d",
   "metadata": {},
   "source": [
    "Ahora voy a crear un dicionario donde aplico la funcion suma_de_numeros() con clave=un_nombre_alumno, valor=suma_las_notas"
   ]
  },
  {
   "cell_type": "code",
   "execution_count": 13,
   "id": "0e35a6fc",
   "metadata": {},
   "outputs": [],
   "source": [
    "def suma_de_numeros(unNumero1,unNumero2):\n",
    "    return int(unNumero1+unNumero2)\n",
    "alumnos={}\n",
    "i=0\n",
    "for u in lista:\n",
    " clave=lista[i]\n",
    " alumnos[clave]=suma_de_numeros(listaEval1[i],listaEval2[i])\n",
    " i+=1\n",
    "#print(alumnos)"
   ]
  },
  {
   "cell_type": "markdown",
   "id": "22f4f5a6",
   "metadata": {},
   "source": [
    "Recorro el diccionario para calcular el promedio, usando el metodo values() que devuelve el valor del diccionario."
   ]
  },
  {
   "cell_type": "code",
   "execution_count": 14,
   "id": "f1a3e23d",
   "metadata": {},
   "outputs": [],
   "source": [
    "total=0\n",
    "cantidad=0\n",
    "for valor in alumnos.values():\n",
    " total= total + valor\n",
    " cantidad+=1\n",
    "promedio=total/cantidad"
   ]
  },
  {
   "cell_type": "markdown",
   "id": "ab56cdcf",
   "metadata": {},
   "source": [
    "Ahora hay que determinar que alumnos no superan el primedio. recorro el dicionario usando el metodo itemos() que me trae clave-valor del diccionario y si la nota esta debajo del primedio imprimo el alumno."
   ]
  },
  {
   "cell_type": "code",
   "execution_count": 15,
   "id": "bc871816",
   "metadata": {},
   "outputs": [
    {
     "name": "stdout",
     "output_type": "stream",
     "text": [
      "el alumno CESAR no supero el promedio de 93.09302325581395 su nota es: 78\n",
      "el alumno Diego no supero el promedio de 93.09302325581395 su nota es: 33\n",
      "el alumno Dolores no supero el promedio de 93.09302325581395 su nota es: 53\n",
      "el alumno DYLAN no supero el promedio de 93.09302325581395 su nota es: 74\n",
      "el alumno ELIANA no supero el promedio de 93.09302325581395 su nota es: 13\n",
      "el alumno Emanuel no supero el promedio de 93.09302325581395 su nota es: 48\n",
      "el alumno GONZALO no supero el promedio de 93.09302325581395 su nota es: 76\n",
      "el alumno Gregorio no supero el promedio de 93.09302325581395 su nota es: 90\n",
      "el alumno Ignacio no supero el promedio de 93.09302325581395 su nota es: 21\n",
      "el alumno Jonathan no supero el promedio de 93.09302325581395 su nota es: 62\n",
      "el alumno Jorge no supero el promedio de 93.09302325581395 su nota es: 79\n",
      "el alumno JUAN no supero el promedio de 93.09302325581395 su nota es: 68\n",
      "el alumno Julian no supero el promedio de 93.09302325581395 su nota es: 87\n",
      "el alumno Leonel no supero el promedio de 93.09302325581395 su nota es: 55\n",
      "el alumno Nicolás no supero el promedio de 93.09302325581395 su nota es: 65\n",
      "el alumno NICOLÁS no supero el promedio de 93.09302325581395 su nota es: 22\n",
      "el alumno Priscila no supero el promedio de 93.09302325581395 su nota es: 24\n",
      "el alumno Yanina no supero el promedio de 93.09302325581395 su nota es: 84\n"
     ]
    }
   ],
   "source": [
    "for clave, valor in alumnos.items():\n",
    " if(valor<promedio):\n",
    "  print(f\"el alumno {clave} no supero el promedio de {promedio} su nota es: {valor}\")"
   ]
  }
 ],
 "metadata": {
  "kernelspec": {
   "display_name": "Python 3 (ipykernel)",
   "language": "python",
   "name": "python3"
  },
  "language_info": {
   "codemirror_mode": {
    "name": "ipython",
    "version": 3
   },
   "file_extension": ".py",
   "mimetype": "text/x-python",
   "name": "python",
   "nbconvert_exporter": "python",
   "pygments_lexer": "ipython3",
   "version": "3.10.4"
  }
 },
 "nbformat": 4,
 "nbformat_minor": 5
}
